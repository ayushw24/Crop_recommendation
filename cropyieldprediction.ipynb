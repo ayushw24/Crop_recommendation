{
  "nbformat": 4,
  "nbformat_minor": 0,
  "metadata": {
    "colab": {
      "provenance": []
    },
    "kernelspec": {
      "name": "python3",
      "display_name": "Python 3"
    },
    "language_info": {
      "name": "python"
    }
  },
  "cells": [
    {
      "cell_type": "code",
      "execution_count": null,
      "metadata": {
        "colab": {
          "base_uri": "https://localhost:8080/"
        },
        "id": "wxWQ2by51SBv",
        "outputId": "6add63e3-fcde-49e5-f4b8-3d51ac2469a8"
      },
      "outputs": [
        {
          "output_type": "stream",
          "name": "stdout",
          "text": [
            "        N   P   K  temperature   humidity        ph    rainfall   label\n",
            "0      90  42  43    20.879744  82.002744  6.502985  202.935536    rice\n",
            "1      85  58  41    21.770462  80.319644  7.038096  226.655537    rice\n",
            "2      60  55  44    23.004459  82.320763  7.840207  263.964248    rice\n",
            "3      74  35  40    26.491096  80.158363  6.980401  242.864034    rice\n",
            "4      78  42  42    20.130175  81.604873  7.628473  262.717340    rice\n",
            "...   ...  ..  ..          ...        ...       ...         ...     ...\n",
            "2195  107  34  32    26.774637  66.413269  6.780064  177.774507  coffee\n",
            "2196   99  15  27    27.417112  56.636362  6.086922  127.924610  coffee\n",
            "2197  118  33  30    24.131797  67.225123  6.362608  173.322839  coffee\n",
            "2198  117  32  34    26.272418  52.127394  6.758793  127.175293  coffee\n",
            "2199  104  18  30    23.603016  60.396475  6.779833  140.937041  coffee\n",
            "\n",
            "[2200 rows x 8 columns]\n"
          ]
        }
      ],
      "source": [
        "import pandas as pd\n",
        "import warnings\n",
        "warnings.filterwarnings('ignore')\n",
        "dataset = pd.read_csv(\"/content/Crop_recommendation.csv\")\n",
        "print(dataset)"
      ]
    },
    {
      "cell_type": "code",
      "source": [
        "print(dataset.size)\n",
        "print(dataset.shape)\n",
        "print(dataset.columns)"
      ],
      "metadata": {
        "colab": {
          "base_uri": "https://localhost:8080/"
        },
        "id": "kbRmSWwO2etz",
        "outputId": "ecbfc248-594a-4167-963f-f8ef3021e581"
      },
      "execution_count": null,
      "outputs": [
        {
          "output_type": "stream",
          "name": "stdout",
          "text": [
            "17600\n",
            "(2200, 8)\n",
            "Index(['N', 'P', 'K', 'temperature', 'humidity', 'ph', 'rainfall', 'label'], dtype='object')\n"
          ]
        }
      ]
    },
    {
      "cell_type": "code",
      "source": [
        "print(dataset['label'].unique())\n",
        "print(\"\")\n",
        "dataset.dtypes"
      ],
      "metadata": {
        "colab": {
          "base_uri": "https://localhost:8080/"
        },
        "id": "mlwl7EC220Md",
        "outputId": "e9d268c5-5e69-4444-bd85-62fb0db7eca3"
      },
      "execution_count": null,
      "outputs": [
        {
          "output_type": "stream",
          "name": "stdout",
          "text": [
            "['rice' 'maize' 'chickpea' 'kidneybeans' 'pigeonpeas' 'mothbeans'\n",
            " 'mungbean' 'blackgram' 'lentil' 'pomegranate' 'banana' 'mango' 'grapes'\n",
            " 'watermelon' 'muskmelon' 'apple' 'orange' 'papaya' 'coconut' 'cotton'\n",
            " 'jute' 'coffee']\n",
            "\n"
          ]
        },
        {
          "output_type": "execute_result",
          "data": {
            "text/plain": [
              "N                int64\n",
              "P                int64\n",
              "K                int64\n",
              "temperature    float64\n",
              "humidity       float64\n",
              "ph             float64\n",
              "rainfall       float64\n",
              "label           object\n",
              "dtype: object"
            ]
          },
          "metadata": {},
          "execution_count": 14
        }
      ]
    },
    {
      "cell_type": "code",
      "source": [
        "dataset['label'].value_counts()"
      ],
      "metadata": {
        "colab": {
          "base_uri": "https://localhost:8080/"
        },
        "id": "gQ86aqgP3Ijp",
        "outputId": "65de2311-38fd-43be-f644-3f0141bdb715"
      },
      "execution_count": null,
      "outputs": [
        {
          "output_type": "execute_result",
          "data": {
            "text/plain": [
              "rice           100\n",
              "maize          100\n",
              "jute           100\n",
              "cotton         100\n",
              "coconut        100\n",
              "papaya         100\n",
              "orange         100\n",
              "apple          100\n",
              "muskmelon      100\n",
              "watermelon     100\n",
              "grapes         100\n",
              "mango          100\n",
              "banana         100\n",
              "pomegranate    100\n",
              "lentil         100\n",
              "blackgram      100\n",
              "mungbean       100\n",
              "mothbeans      100\n",
              "pigeonpeas     100\n",
              "kidneybeans    100\n",
              "chickpea       100\n",
              "coffee         100\n",
              "Name: label, dtype: int64"
            ]
          },
          "metadata": {},
          "execution_count": 15
        }
      ]
    },
    {
      "cell_type": "code",
      "source": [
        "dataset.info()"
      ],
      "metadata": {
        "colab": {
          "base_uri": "https://localhost:8080/"
        },
        "id": "L1Mk7jHn3WZy",
        "outputId": "6b76edfb-ad30-4d64-b64a-dce98ad47a6f"
      },
      "execution_count": null,
      "outputs": [
        {
          "output_type": "stream",
          "name": "stdout",
          "text": [
            "<class 'pandas.core.frame.DataFrame'>\n",
            "RangeIndex: 2200 entries, 0 to 2199\n",
            "Data columns (total 8 columns):\n",
            " #   Column       Non-Null Count  Dtype  \n",
            "---  ------       --------------  -----  \n",
            " 0   N            2200 non-null   int64  \n",
            " 1   P            2200 non-null   int64  \n",
            " 2   K            2200 non-null   int64  \n",
            " 3   temperature  2200 non-null   float64\n",
            " 4   humidity     2200 non-null   float64\n",
            " 5   ph           2200 non-null   float64\n",
            " 6   rainfall     2200 non-null   float64\n",
            " 7   label        2200 non-null   object \n",
            "dtypes: float64(4), int64(3), object(1)\n",
            "memory usage: 137.6+ KB\n"
          ]
        }
      ]
    },
    {
      "cell_type": "code",
      "source": [
        "dataset.describe()"
      ],
      "metadata": {
        "colab": {
          "base_uri": "https://localhost:8080/",
          "height": 300
        },
        "id": "eO-e9luQ3aRX",
        "outputId": "2a01f951-7fde-4033-f9cb-ac3c9796cddc"
      },
      "execution_count": null,
      "outputs": [
        {
          "output_type": "execute_result",
          "data": {
            "text/plain": [
              "                 N            P            K  temperature     humidity  \\\n",
              "count  2200.000000  2200.000000  2200.000000  2200.000000  2200.000000   \n",
              "mean     50.551818    53.362727    48.149091    25.616244    71.481779   \n",
              "std      36.917334    32.985883    50.647931     5.063749    22.263812   \n",
              "min       0.000000     5.000000     5.000000     8.825675    14.258040   \n",
              "25%      21.000000    28.000000    20.000000    22.769375    60.261953   \n",
              "50%      37.000000    51.000000    32.000000    25.598693    80.473146   \n",
              "75%      84.250000    68.000000    49.000000    28.561654    89.948771   \n",
              "max     140.000000   145.000000   205.000000    43.675493    99.981876   \n",
              "\n",
              "                ph     rainfall  \n",
              "count  2200.000000  2200.000000  \n",
              "mean      6.469480   103.463655  \n",
              "std       0.773938    54.958389  \n",
              "min       3.504752    20.211267  \n",
              "25%       5.971693    64.551686  \n",
              "50%       6.425045    94.867624  \n",
              "75%       6.923643   124.267508  \n",
              "max       9.935091   298.560117  "
            ],
            "text/html": [
              "\n",
              "  <div id=\"df-78175afb-13ca-4750-9457-acdb7c9dd39f\">\n",
              "    <div class=\"colab-df-container\">\n",
              "      <div>\n",
              "<style scoped>\n",
              "    .dataframe tbody tr th:only-of-type {\n",
              "        vertical-align: middle;\n",
              "    }\n",
              "\n",
              "    .dataframe tbody tr th {\n",
              "        vertical-align: top;\n",
              "    }\n",
              "\n",
              "    .dataframe thead th {\n",
              "        text-align: right;\n",
              "    }\n",
              "</style>\n",
              "<table border=\"1\" class=\"dataframe\">\n",
              "  <thead>\n",
              "    <tr style=\"text-align: right;\">\n",
              "      <th></th>\n",
              "      <th>N</th>\n",
              "      <th>P</th>\n",
              "      <th>K</th>\n",
              "      <th>temperature</th>\n",
              "      <th>humidity</th>\n",
              "      <th>ph</th>\n",
              "      <th>rainfall</th>\n",
              "    </tr>\n",
              "  </thead>\n",
              "  <tbody>\n",
              "    <tr>\n",
              "      <th>count</th>\n",
              "      <td>2200.000000</td>\n",
              "      <td>2200.000000</td>\n",
              "      <td>2200.000000</td>\n",
              "      <td>2200.000000</td>\n",
              "      <td>2200.000000</td>\n",
              "      <td>2200.000000</td>\n",
              "      <td>2200.000000</td>\n",
              "    </tr>\n",
              "    <tr>\n",
              "      <th>mean</th>\n",
              "      <td>50.551818</td>\n",
              "      <td>53.362727</td>\n",
              "      <td>48.149091</td>\n",
              "      <td>25.616244</td>\n",
              "      <td>71.481779</td>\n",
              "      <td>6.469480</td>\n",
              "      <td>103.463655</td>\n",
              "    </tr>\n",
              "    <tr>\n",
              "      <th>std</th>\n",
              "      <td>36.917334</td>\n",
              "      <td>32.985883</td>\n",
              "      <td>50.647931</td>\n",
              "      <td>5.063749</td>\n",
              "      <td>22.263812</td>\n",
              "      <td>0.773938</td>\n",
              "      <td>54.958389</td>\n",
              "    </tr>\n",
              "    <tr>\n",
              "      <th>min</th>\n",
              "      <td>0.000000</td>\n",
              "      <td>5.000000</td>\n",
              "      <td>5.000000</td>\n",
              "      <td>8.825675</td>\n",
              "      <td>14.258040</td>\n",
              "      <td>3.504752</td>\n",
              "      <td>20.211267</td>\n",
              "    </tr>\n",
              "    <tr>\n",
              "      <th>25%</th>\n",
              "      <td>21.000000</td>\n",
              "      <td>28.000000</td>\n",
              "      <td>20.000000</td>\n",
              "      <td>22.769375</td>\n",
              "      <td>60.261953</td>\n",
              "      <td>5.971693</td>\n",
              "      <td>64.551686</td>\n",
              "    </tr>\n",
              "    <tr>\n",
              "      <th>50%</th>\n",
              "      <td>37.000000</td>\n",
              "      <td>51.000000</td>\n",
              "      <td>32.000000</td>\n",
              "      <td>25.598693</td>\n",
              "      <td>80.473146</td>\n",
              "      <td>6.425045</td>\n",
              "      <td>94.867624</td>\n",
              "    </tr>\n",
              "    <tr>\n",
              "      <th>75%</th>\n",
              "      <td>84.250000</td>\n",
              "      <td>68.000000</td>\n",
              "      <td>49.000000</td>\n",
              "      <td>28.561654</td>\n",
              "      <td>89.948771</td>\n",
              "      <td>6.923643</td>\n",
              "      <td>124.267508</td>\n",
              "    </tr>\n",
              "    <tr>\n",
              "      <th>max</th>\n",
              "      <td>140.000000</td>\n",
              "      <td>145.000000</td>\n",
              "      <td>205.000000</td>\n",
              "      <td>43.675493</td>\n",
              "      <td>99.981876</td>\n",
              "      <td>9.935091</td>\n",
              "      <td>298.560117</td>\n",
              "    </tr>\n",
              "  </tbody>\n",
              "</table>\n",
              "</div>\n",
              "      <button class=\"colab-df-convert\" onclick=\"convertToInteractive('df-78175afb-13ca-4750-9457-acdb7c9dd39f')\"\n",
              "              title=\"Convert this dataframe to an interactive table.\"\n",
              "              style=\"display:none;\">\n",
              "        \n",
              "  <svg xmlns=\"http://www.w3.org/2000/svg\" height=\"24px\"viewBox=\"0 0 24 24\"\n",
              "       width=\"24px\">\n",
              "    <path d=\"M0 0h24v24H0V0z\" fill=\"none\"/>\n",
              "    <path d=\"M18.56 5.44l.94 2.06.94-2.06 2.06-.94-2.06-.94-.94-2.06-.94 2.06-2.06.94zm-11 1L8.5 8.5l.94-2.06 2.06-.94-2.06-.94L8.5 2.5l-.94 2.06-2.06.94zm10 10l.94 2.06.94-2.06 2.06-.94-2.06-.94-.94-2.06-.94 2.06-2.06.94z\"/><path d=\"M17.41 7.96l-1.37-1.37c-.4-.4-.92-.59-1.43-.59-.52 0-1.04.2-1.43.59L10.3 9.45l-7.72 7.72c-.78.78-.78 2.05 0 2.83L4 21.41c.39.39.9.59 1.41.59.51 0 1.02-.2 1.41-.59l7.78-7.78 2.81-2.81c.8-.78.8-2.07 0-2.86zM5.41 20L4 18.59l7.72-7.72 1.47 1.35L5.41 20z\"/>\n",
              "  </svg>\n",
              "      </button>\n",
              "      \n",
              "  <style>\n",
              "    .colab-df-container {\n",
              "      display:flex;\n",
              "      flex-wrap:wrap;\n",
              "      gap: 12px;\n",
              "    }\n",
              "\n",
              "    .colab-df-convert {\n",
              "      background-color: #E8F0FE;\n",
              "      border: none;\n",
              "      border-radius: 50%;\n",
              "      cursor: pointer;\n",
              "      display: none;\n",
              "      fill: #1967D2;\n",
              "      height: 32px;\n",
              "      padding: 0 0 0 0;\n",
              "      width: 32px;\n",
              "    }\n",
              "\n",
              "    .colab-df-convert:hover {\n",
              "      background-color: #E2EBFA;\n",
              "      box-shadow: 0px 1px 2px rgba(60, 64, 67, 0.3), 0px 1px 3px 1px rgba(60, 64, 67, 0.15);\n",
              "      fill: #174EA6;\n",
              "    }\n",
              "\n",
              "    [theme=dark] .colab-df-convert {\n",
              "      background-color: #3B4455;\n",
              "      fill: #D2E3FC;\n",
              "    }\n",
              "\n",
              "    [theme=dark] .colab-df-convert:hover {\n",
              "      background-color: #434B5C;\n",
              "      box-shadow: 0px 1px 3px 1px rgba(0, 0, 0, 0.15);\n",
              "      filter: drop-shadow(0px 1px 2px rgba(0, 0, 0, 0.3));\n",
              "      fill: #FFFFFF;\n",
              "    }\n",
              "  </style>\n",
              "\n",
              "      <script>\n",
              "        const buttonEl =\n",
              "          document.querySelector('#df-78175afb-13ca-4750-9457-acdb7c9dd39f button.colab-df-convert');\n",
              "        buttonEl.style.display =\n",
              "          google.colab.kernel.accessAllowed ? 'block' : 'none';\n",
              "\n",
              "        async function convertToInteractive(key) {\n",
              "          const element = document.querySelector('#df-78175afb-13ca-4750-9457-acdb7c9dd39f');\n",
              "          const dataTable =\n",
              "            await google.colab.kernel.invokeFunction('convertToInteractive',\n",
              "                                                     [key], {});\n",
              "          if (!dataTable) return;\n",
              "\n",
              "          const docLinkHtml = 'Like what you see? Visit the ' +\n",
              "            '<a target=\"_blank\" href=https://colab.research.google.com/notebooks/data_table.ipynb>data table notebook</a>'\n",
              "            + ' to learn more about interactive tables.';\n",
              "          element.innerHTML = '';\n",
              "          dataTable['output_type'] = 'display_data';\n",
              "          await google.colab.output.renderOutput(dataTable, element);\n",
              "          const docLink = document.createElement('div');\n",
              "          docLink.innerHTML = docLinkHtml;\n",
              "          element.appendChild(docLink);\n",
              "        }\n",
              "      </script>\n",
              "    </div>\n",
              "  </div>\n",
              "  "
            ]
          },
          "metadata": {},
          "execution_count": 17
        }
      ]
    },
    {
      "cell_type": "code",
      "source": [
        "dataset.isnull().sum()"
      ],
      "metadata": {
        "colab": {
          "base_uri": "https://localhost:8080/"
        },
        "id": "1VHfHqRTCVVe",
        "outputId": "992e34c9-09fe-41cd-d183-93c77a4e4dc3"
      },
      "execution_count": null,
      "outputs": [
        {
          "output_type": "execute_result",
          "data": {
            "text/plain": [
              "N              0\n",
              "P              0\n",
              "K              0\n",
              "temperature    0\n",
              "humidity       0\n",
              "ph             0\n",
              "rainfall       0\n",
              "label          0\n",
              "dtype: int64"
            ]
          },
          "metadata": {},
          "execution_count": 18
        }
      ]
    },
    {
      "cell_type": "code",
      "source": [
        "dataset.isna().sum()"
      ],
      "metadata": {
        "colab": {
          "base_uri": "https://localhost:8080/"
        },
        "id": "bQrYaXteCaY-",
        "outputId": "7dbe68d5-a3b8-49e0-a8aa-8e1bbc50ec7a"
      },
      "execution_count": null,
      "outputs": [
        {
          "output_type": "execute_result",
          "data": {
            "text/plain": [
              "N              0\n",
              "P              0\n",
              "K              0\n",
              "temperature    0\n",
              "humidity       0\n",
              "ph             0\n",
              "rainfall       0\n",
              "label          0\n",
              "dtype: int64"
            ]
          },
          "metadata": {},
          "execution_count": 19
        }
      ]
    },
    {
      "cell_type": "markdown",
      "source": [
        "Splitting the dataset into features(independent) and target(dependent) or basically into X and y"
      ],
      "metadata": {
        "id": "XxYfsNEK3-ke"
      }
    },
    {
      "cell_type": "code",
      "source": [
        "features = dataset[['N', 'P','K','temperature', 'humidity', 'ph', 'rainfall']]\n",
        "target = dataset['label']\n",
        "from sklearn.model_selection import train_test_split\n",
        "Xtrain, Xtest, Ytrain, Ytest = train_test_split(features,target,test_size = 0.2,random_state=2)"
      ],
      "metadata": {
        "id": "v-xKA_e733a6"
      },
      "execution_count": null,
      "outputs": []
    },
    {
      "cell_type": "markdown",
      "source": [
        "# ***DECISION TREE***"
      ],
      "metadata": {
        "id": "Q5mkhqDe_6ja"
      }
    },
    {
      "cell_type": "code",
      "source": [
        "from sklearn.tree import DecisionTreeClassifier\n",
        "from sklearn.metrics import accuracy_score\n",
        "DecisionTree = DecisionTreeClassifier(random_state=2)\n",
        "DecisionTree.fit(Xtrain,Ytrain)\n",
        "predicted_values = DecisionTree.predict(Xtest)\n",
        "accuracy = accuracy_score(Ytest, predicted_values)\n",
        "print(\"DecisionTrees's Accuracy is: \", accuracy*100)"
      ],
      "metadata": {
        "colab": {
          "base_uri": "https://localhost:8080/"
        },
        "id": "zpmpNsuHAFWI",
        "outputId": "e6356d4f-554a-4232-c8d4-6ddba3debf4c"
      },
      "execution_count": null,
      "outputs": [
        {
          "output_type": "stream",
          "name": "stdout",
          "text": [
            "DecisionTrees's Accuracy is:  97.27272727272728\n"
          ]
        }
      ]
    },
    {
      "cell_type": "markdown",
      "source": [
        "# ***Gaussian Naive Bayes***"
      ],
      "metadata": {
        "id": "pcAKGBjdCiEp"
      }
    },
    {
      "cell_type": "code",
      "source": [
        "from sklearn.naive_bayes import GaussianNB\n",
        "gnb = GaussianNB()\n",
        "gnb.fit(Xtrain, Ytrain)\n",
        "Ypred = gnb.predict(Xtest)\n",
        "accuracy_gnb = accuracy_score(Ytest, Ypred)\n",
        "print(\"Gaussian Naive Bayes Accuracy is: \", accuracy_gnb*100)"
      ],
      "metadata": {
        "colab": {
          "base_uri": "https://localhost:8080/"
        },
        "id": "YAdXjrHtPxdg",
        "outputId": "348d4c4a-a106-4bee-a87b-0c47d980e123"
      },
      "execution_count": null,
      "outputs": [
        {
          "output_type": "stream",
          "name": "stdout",
          "text": [
            "Gaussian Naive Bayes Accuracy is:  99.0909090909091\n"
          ]
        }
      ]
    },
    {
      "cell_type": "markdown",
      "source": [
        "# ***Support Vector Machine***"
      ],
      "metadata": {
        "id": "fc7h8FxXRoCy"
      }
    },
    {
      "cell_type": "code",
      "source": [
        "from sklearn.svm import SVC\n",
        "SVM = SVC()\n",
        "SVM.fit(Xtrain,Ytrain)\n",
        "predicted = SVM.predict(Xtest)\n",
        "x = accuracy_score(Ytest, predicted)\n",
        "print(\"Support Vector Machine's Accuracy is: \", x*100)"
      ],
      "metadata": {
        "colab": {
          "base_uri": "https://localhost:8080/"
        },
        "id": "Etc2M7CiRwLD",
        "outputId": "8d9bea19-d367-441f-dd3e-8d32fd34cd31"
      },
      "execution_count": null,
      "outputs": [
        {
          "output_type": "stream",
          "name": "stdout",
          "text": [
            "Support Vector Machine's Accuracy is:  97.72727272727273\n"
          ]
        }
      ]
    },
    {
      "cell_type": "markdown",
      "source": [
        "# ***Logistic Regression***"
      ],
      "metadata": {
        "id": "F0Y6t9NvWsWo"
      }
    },
    {
      "cell_type": "code",
      "source": [
        "from sklearn.linear_model import LogisticRegression\n",
        "lr_classifier = LogisticRegression(random_state=2)\n",
        "lr_classifier.fit(Xtrain, Ytrain)\n",
        "y_pred = lr_classifier.predict(Xtest)\n",
        "accuracy_lr = accuracy_score(Ytest, y_pred)\n",
        "print(\"Logistic Regression's Accuracy is: \", accuracy_lr*100)"
      ],
      "metadata": {
        "colab": {
          "base_uri": "https://localhost:8080/"
        },
        "id": "4Na-Hw_cWzGZ",
        "outputId": "c9ac8c9a-e1f6-405e-fad5-97f0ae2b0f6e"
      },
      "execution_count": null,
      "outputs": [
        {
          "output_type": "stream",
          "name": "stdout",
          "text": [
            "Logistic Regression's Accuracy is:  95.22727272727273\n"
          ]
        }
      ]
    },
    {
      "cell_type": "markdown",
      "source": [
        "# ***Random Forest***"
      ],
      "metadata": {
        "id": "z6ka7PlcYGcy"
      }
    },
    {
      "cell_type": "code",
      "source": [
        "from sklearn.ensemble import RandomForestClassifier\n",
        "RF = RandomForestClassifier(random_state=2)\n",
        "RF.fit(Xtrain,Ytrain)\n",
        "predict = RF.predict(Xtest)\n",
        "acc = accuracy_score(Ytest, predict)\n",
        "print(\"Random Forest's Accuracy is: \", acc*100)"
      ],
      "metadata": {
        "colab": {
          "base_uri": "https://localhost:8080/"
        },
        "id": "xUEMLmH4YM8W",
        "outputId": "8e05cfe6-d778-4381-985b-6faec232051b"
      },
      "execution_count": null,
      "outputs": [
        {
          "output_type": "stream",
          "name": "stdout",
          "text": [
            "Random Forest's Accuracy is:  99.54545454545455\n"
          ]
        }
      ]
    },
    {
      "cell_type": "markdown",
      "source": [
        "# ***Making Predictions:***"
      ],
      "metadata": {
        "id": "tTRbZQEUY9XE"
      }
    },
    {
      "cell_type": "code",
      "source": [
        "import numpy as np\n",
        "data = np.array([[104,18, 30, 23.603016, 60.3, 6.7, 140.91]])\n",
        "prediction = DecisionTree.predict(data)\n",
        "print(prediction)"
      ],
      "metadata": {
        "colab": {
          "base_uri": "https://localhost:8080/"
        },
        "id": "qeVD6PMuY8s0",
        "outputId": "0ef84120-e12a-4acd-a74a-94c8a3f1f151"
      },
      "execution_count": null,
      "outputs": [
        {
          "output_type": "stream",
          "name": "stdout",
          "text": [
            "['coffee']\n"
          ]
        }
      ]
    }
  ]
}